{
  "nbformat": 4,
  "nbformat_minor": 0,
  "metadata": {
    "colab": {
      "name": "student_percentage_predictor.ipynb",
      "provenance": [],
      "collapsed_sections": []
    },
    "kernelspec": {
      "name": "python3",
      "display_name": "Python 3"
    }
  },
  "cells": [
    {
      "cell_type": "code",
      "metadata": {
        "id": "95TOgy1jMZCc",
        "colab_type": "code",
        "colab": {}
      },
      "source": [
        ""
      ],
      "execution_count": 324,
      "outputs": []
    },
    {
      "cell_type": "markdown",
      "metadata": {
        "id": "76alTRTHeS6U",
        "colab_type": "text"
      },
      "source": [
        "email:pooja.bennabhaktula@gmail.com"
      ]
    },
    {
      "cell_type": "markdown",
      "metadata": {
        "id": "JprUlx8kj8rQ",
        "colab_type": "text"
      },
      "source": [
        "### **SUPERVISED MACHINE LEARNING**"
      ]
    },
    {
      "cell_type": "markdown",
      "metadata": {
        "id": "bNBYENiVdtV_",
        "colab_type": "text"
      },
      "source": [
        "####**Task2-Predicting scores of students based on hours of study using linear regression.**"
      ]
    },
    {
      "cell_type": "code",
      "metadata": {
        "id": "x5Sa4e36MZXr",
        "colab_type": "code",
        "colab": {}
      },
      "source": [
        ""
      ],
      "execution_count": 324,
      "outputs": []
    },
    {
      "cell_type": "markdown",
      "metadata": {
        "id": "cxL84w_YL90J",
        "colab_type": "text"
      },
      "source": [
        "### **Importing relevant libraries**"
      ]
    },
    {
      "cell_type": "code",
      "metadata": {
        "id": "ModzH8giGZmI",
        "colab_type": "code",
        "colab": {
          "base_uri": "https://localhost:8080/",
          "height": 669
        },
        "outputId": "e02e27e9-3243-477b-af15-5dddbb548576"
      },
      "source": [
        "import numpy as np\n",
        "import pandas as pd\n",
        "import matplotlib.pyplot as plt\n",
        "%matplotlib inline\n",
        "import seaborn as sns\n",
        "url=\"http://bit.ly/w-data\"\n",
        "data_set=pd.read_csv(url)\n",
        "data_set.head(20)\n"
      ],
      "execution_count": 325,
      "outputs": [
        {
          "output_type": "execute_result",
          "data": {
            "text/html": [
              "<div>\n",
              "<style scoped>\n",
              "    .dataframe tbody tr th:only-of-type {\n",
              "        vertical-align: middle;\n",
              "    }\n",
              "\n",
              "    .dataframe tbody tr th {\n",
              "        vertical-align: top;\n",
              "    }\n",
              "\n",
              "    .dataframe thead th {\n",
              "        text-align: right;\n",
              "    }\n",
              "</style>\n",
              "<table border=\"1\" class=\"dataframe\">\n",
              "  <thead>\n",
              "    <tr style=\"text-align: right;\">\n",
              "      <th></th>\n",
              "      <th>Hours</th>\n",
              "      <th>Scores</th>\n",
              "    </tr>\n",
              "  </thead>\n",
              "  <tbody>\n",
              "    <tr>\n",
              "      <th>0</th>\n",
              "      <td>2.5</td>\n",
              "      <td>21</td>\n",
              "    </tr>\n",
              "    <tr>\n",
              "      <th>1</th>\n",
              "      <td>5.1</td>\n",
              "      <td>47</td>\n",
              "    </tr>\n",
              "    <tr>\n",
              "      <th>2</th>\n",
              "      <td>3.2</td>\n",
              "      <td>27</td>\n",
              "    </tr>\n",
              "    <tr>\n",
              "      <th>3</th>\n",
              "      <td>8.5</td>\n",
              "      <td>75</td>\n",
              "    </tr>\n",
              "    <tr>\n",
              "      <th>4</th>\n",
              "      <td>3.5</td>\n",
              "      <td>30</td>\n",
              "    </tr>\n",
              "    <tr>\n",
              "      <th>5</th>\n",
              "      <td>1.5</td>\n",
              "      <td>20</td>\n",
              "    </tr>\n",
              "    <tr>\n",
              "      <th>6</th>\n",
              "      <td>9.2</td>\n",
              "      <td>88</td>\n",
              "    </tr>\n",
              "    <tr>\n",
              "      <th>7</th>\n",
              "      <td>5.5</td>\n",
              "      <td>60</td>\n",
              "    </tr>\n",
              "    <tr>\n",
              "      <th>8</th>\n",
              "      <td>8.3</td>\n",
              "      <td>81</td>\n",
              "    </tr>\n",
              "    <tr>\n",
              "      <th>9</th>\n",
              "      <td>2.7</td>\n",
              "      <td>25</td>\n",
              "    </tr>\n",
              "    <tr>\n",
              "      <th>10</th>\n",
              "      <td>7.7</td>\n",
              "      <td>85</td>\n",
              "    </tr>\n",
              "    <tr>\n",
              "      <th>11</th>\n",
              "      <td>5.9</td>\n",
              "      <td>62</td>\n",
              "    </tr>\n",
              "    <tr>\n",
              "      <th>12</th>\n",
              "      <td>4.5</td>\n",
              "      <td>41</td>\n",
              "    </tr>\n",
              "    <tr>\n",
              "      <th>13</th>\n",
              "      <td>3.3</td>\n",
              "      <td>42</td>\n",
              "    </tr>\n",
              "    <tr>\n",
              "      <th>14</th>\n",
              "      <td>1.1</td>\n",
              "      <td>17</td>\n",
              "    </tr>\n",
              "    <tr>\n",
              "      <th>15</th>\n",
              "      <td>8.9</td>\n",
              "      <td>95</td>\n",
              "    </tr>\n",
              "    <tr>\n",
              "      <th>16</th>\n",
              "      <td>2.5</td>\n",
              "      <td>30</td>\n",
              "    </tr>\n",
              "    <tr>\n",
              "      <th>17</th>\n",
              "      <td>1.9</td>\n",
              "      <td>24</td>\n",
              "    </tr>\n",
              "    <tr>\n",
              "      <th>18</th>\n",
              "      <td>6.1</td>\n",
              "      <td>67</td>\n",
              "    </tr>\n",
              "    <tr>\n",
              "      <th>19</th>\n",
              "      <td>7.4</td>\n",
              "      <td>69</td>\n",
              "    </tr>\n",
              "  </tbody>\n",
              "</table>\n",
              "</div>"
            ],
            "text/plain": [
              "    Hours  Scores\n",
              "0     2.5      21\n",
              "1     5.1      47\n",
              "2     3.2      27\n",
              "3     8.5      75\n",
              "4     3.5      30\n",
              "5     1.5      20\n",
              "6     9.2      88\n",
              "7     5.5      60\n",
              "8     8.3      81\n",
              "9     2.7      25\n",
              "10    7.7      85\n",
              "11    5.9      62\n",
              "12    4.5      41\n",
              "13    3.3      42\n",
              "14    1.1      17\n",
              "15    8.9      95\n",
              "16    2.5      30\n",
              "17    1.9      24\n",
              "18    6.1      67\n",
              "19    7.4      69"
            ]
          },
          "metadata": {
            "tags": []
          },
          "execution_count": 325
        }
      ]
    },
    {
      "cell_type": "code",
      "metadata": {
        "id": "9NWsNmHEZrXx",
        "colab_type": "code",
        "colab": {
          "base_uri": "https://localhost:8080/",
          "height": 297
        },
        "outputId": "04628f23-1502-4dba-d838-8571a6a213ab"
      },
      "source": [
        "data_set.describe()"
      ],
      "execution_count": 326,
      "outputs": [
        {
          "output_type": "execute_result",
          "data": {
            "text/html": [
              "<div>\n",
              "<style scoped>\n",
              "    .dataframe tbody tr th:only-of-type {\n",
              "        vertical-align: middle;\n",
              "    }\n",
              "\n",
              "    .dataframe tbody tr th {\n",
              "        vertical-align: top;\n",
              "    }\n",
              "\n",
              "    .dataframe thead th {\n",
              "        text-align: right;\n",
              "    }\n",
              "</style>\n",
              "<table border=\"1\" class=\"dataframe\">\n",
              "  <thead>\n",
              "    <tr style=\"text-align: right;\">\n",
              "      <th></th>\n",
              "      <th>Hours</th>\n",
              "      <th>Scores</th>\n",
              "    </tr>\n",
              "  </thead>\n",
              "  <tbody>\n",
              "    <tr>\n",
              "      <th>count</th>\n",
              "      <td>25.000000</td>\n",
              "      <td>25.000000</td>\n",
              "    </tr>\n",
              "    <tr>\n",
              "      <th>mean</th>\n",
              "      <td>5.012000</td>\n",
              "      <td>51.480000</td>\n",
              "    </tr>\n",
              "    <tr>\n",
              "      <th>std</th>\n",
              "      <td>2.525094</td>\n",
              "      <td>25.286887</td>\n",
              "    </tr>\n",
              "    <tr>\n",
              "      <th>min</th>\n",
              "      <td>1.100000</td>\n",
              "      <td>17.000000</td>\n",
              "    </tr>\n",
              "    <tr>\n",
              "      <th>25%</th>\n",
              "      <td>2.700000</td>\n",
              "      <td>30.000000</td>\n",
              "    </tr>\n",
              "    <tr>\n",
              "      <th>50%</th>\n",
              "      <td>4.800000</td>\n",
              "      <td>47.000000</td>\n",
              "    </tr>\n",
              "    <tr>\n",
              "      <th>75%</th>\n",
              "      <td>7.400000</td>\n",
              "      <td>75.000000</td>\n",
              "    </tr>\n",
              "    <tr>\n",
              "      <th>max</th>\n",
              "      <td>9.200000</td>\n",
              "      <td>95.000000</td>\n",
              "    </tr>\n",
              "  </tbody>\n",
              "</table>\n",
              "</div>"
            ],
            "text/plain": [
              "           Hours     Scores\n",
              "count  25.000000  25.000000\n",
              "mean    5.012000  51.480000\n",
              "std     2.525094  25.286887\n",
              "min     1.100000  17.000000\n",
              "25%     2.700000  30.000000\n",
              "50%     4.800000  47.000000\n",
              "75%     7.400000  75.000000\n",
              "max     9.200000  95.000000"
            ]
          },
          "metadata": {
            "tags": []
          },
          "execution_count": 326
        }
      ]
    },
    {
      "cell_type": "markdown",
      "metadata": {
        "id": "BdT9r-xlMerM",
        "colab_type": "text"
      },
      "source": [
        "###**Visualizing relationship between variables using matplotlib**"
      ]
    },
    {
      "cell_type": "code",
      "metadata": {
        "id": "WVIbRpo2IHnr",
        "colab_type": "code",
        "colab": {
          "base_uri": "https://localhost:8080/",
          "height": 295
        },
        "outputId": "79063c9b-a29f-4531-a1b3-f888f0bd63dc"
      },
      "source": [
        "\n",
        "plt.scatter(x=data_set.Hours,y=data_set.Scores)\n",
        "plt.title('Hours studied vs Scores obtained')\n",
        "plt.xlabel('Hours studied')\n",
        "plt.ylabel('Score Obtained')\n",
        "plt.show()\n"
      ],
      "execution_count": 327,
      "outputs": [
        {
          "output_type": "display_data",
          "data": {
            "image/png": "[encoded data removed]",
            "text/plain": [
              "<Figure size 432x288 with 1 Axes>"
            ]
          },
          "metadata": {
            "tags": [],
            "needs_background": "light"
          }
        }
      ]
    },
    {
      "cell_type": "markdown",
      "metadata": {
        "id": "DYSnlVGoP46p",
        "colab_type": "text"
      },
      "source": [
        "### **Visualizing relationship  between variables using Seaborn**"
      ]
    },
    {
      "cell_type": "code",
      "metadata": {
        "id": "mKje-S5hP4Bd",
        "colab_type": "code",
        "colab": {
          "base_uri": "https://localhost:8080/",
          "height": 666
        },
        "outputId": "112522fe-a6f0-41c0-8ef5-d521e766e498"
      },
      "source": [
        "sns.regplot(x=\"Hours\",y=\"Scores\",data=data_set)\n",
        "b=sns.PairGrid(data_set)\n",
        "b.map(plt.scatter)"
      ],
      "execution_count": 328,
      "outputs": [
        {
          "output_type": "execute_result",
          "data": {
            "text/plain": [
              "<seaborn.axisgrid.PairGrid at 0x7fd5dc325780>"
            ]
          },
          "metadata": {
            "tags": []
          },
          "execution_count": 328
        },
        {
          "output_type": "display_data",
          "data": {
            "image/png": "[encoded data removed]",
            "text/plain": [
              "<Figure size 432x288 with 1 Axes>"
            ]
          },
          "metadata": {
            "tags": [],
            "needs_background": "light"
          }
        },
        {
          "output_type": "display_data",
          "data": {
            "image/png": "[encoded data removed]",
            "text/plain": [
              "<Figure size 360x360 with 4 Axes>"
            ]
          },
          "metadata": {
            "tags": [],
            "needs_background": "light"
          }
        }
      ]
    },
    {
      "cell_type": "markdown",
      "metadata": {
        "id": "MPhyRYFuMqj4",
        "colab_type": "text"
      },
      "source": [
        "### **Checking information like shape,data-types of elements and memory usage**"
      ]
    },
    {
      "cell_type": "code",
      "metadata": {
        "id": "1b_n3L2SM0c_",
        "colab_type": "code",
        "colab": {
          "base_uri": "https://localhost:8080/",
          "height": 170
        },
        "outputId": "4bcbd75c-d88f-4102-b926-cf1d2189ba0e"
      },
      "source": [
        "data_set.info()"
      ],
      "execution_count": 329,
      "outputs": [
        {
          "output_type": "stream",
          "text": [
            "<class 'pandas.core.frame.DataFrame'>\n",
            "RangeIndex: 25 entries, 0 to 24\n",
            "Data columns (total 2 columns):\n",
            " #   Column  Non-Null Count  Dtype  \n",
            "---  ------  --------------  -----  \n",
            " 0   Hours   25 non-null     float64\n",
            " 1   Scores  25 non-null     int64  \n",
            "dtypes: float64(1), int64(1)\n",
            "memory usage: 528.0 bytes\n"
          ],
          "name": "stdout"
        }
      ]
    },
    {
      "cell_type": "markdown",
      "metadata": {
        "id": "vsMR8iqRNFVJ",
        "colab_type": "text"
      },
      "source": [
        "### **Checking Range of values across various parameters given in the dataset**"
      ]
    },
    {
      "cell_type": "code",
      "metadata": {
        "id": "lTiXxP6tNRhP",
        "colab_type": "code",
        "colab": {
          "base_uri": "https://localhost:8080/",
          "height": 297
        },
        "outputId": "6d540483-aed1-442f-dd26-c61493b714b3"
      },
      "source": [
        "data_set.describe()"
      ],
      "execution_count": 330,
      "outputs": [
        {
          "output_type": "execute_result",
          "data": {
            "text/html": [
              "<div>\n",
              "<style scoped>\n",
              "    .dataframe tbody tr th:only-of-type {\n",
              "        vertical-align: middle;\n",
              "    }\n",
              "\n",
              "    .dataframe tbody tr th {\n",
              "        vertical-align: top;\n",
              "    }\n",
              "\n",
              "    .dataframe thead th {\n",
              "        text-align: right;\n",
              "    }\n",
              "</style>\n",
              "<table border=\"1\" class=\"dataframe\">\n",
              "  <thead>\n",
              "    <tr style=\"text-align: right;\">\n",
              "      <th></th>\n",
              "      <th>Hours</th>\n",
              "      <th>Scores</th>\n",
              "    </tr>\n",
              "  </thead>\n",
              "  <tbody>\n",
              "    <tr>\n",
              "      <th>count</th>\n",
              "      <td>25.000000</td>\n",
              "      <td>25.000000</td>\n",
              "    </tr>\n",
              "    <tr>\n",
              "      <th>mean</th>\n",
              "      <td>5.012000</td>\n",
              "      <td>51.480000</td>\n",
              "    </tr>\n",
              "    <tr>\n",
              "      <th>std</th>\n",
              "      <td>2.525094</td>\n",
              "      <td>25.286887</td>\n",
              "    </tr>\n",
              "    <tr>\n",
              "      <th>min</th>\n",
              "      <td>1.100000</td>\n",
              "      <td>17.000000</td>\n",
              "    </tr>\n",
              "    <tr>\n",
              "      <th>25%</th>\n",
              "      <td>2.700000</td>\n",
              "      <td>30.000000</td>\n",
              "    </tr>\n",
              "    <tr>\n",
              "      <th>50%</th>\n",
              "      <td>4.800000</td>\n",
              "      <td>47.000000</td>\n",
              "    </tr>\n",
              "    <tr>\n",
              "      <th>75%</th>\n",
              "      <td>7.400000</td>\n",
              "      <td>75.000000</td>\n",
              "    </tr>\n",
              "    <tr>\n",
              "      <th>max</th>\n",
              "      <td>9.200000</td>\n",
              "      <td>95.000000</td>\n",
              "    </tr>\n",
              "  </tbody>\n",
              "</table>\n",
              "</div>"
            ],
            "text/plain": [
              "           Hours     Scores\n",
              "count  25.000000  25.000000\n",
              "mean    5.012000  51.480000\n",
              "std     2.525094  25.286887\n",
              "min     1.100000  17.000000\n",
              "25%     2.700000  30.000000\n",
              "50%     4.800000  47.000000\n",
              "75%     7.400000  75.000000\n",
              "max     9.200000  95.000000"
            ]
          },
          "metadata": {
            "tags": []
          },
          "execution_count": 330
        }
      ]
    },
    {
      "cell_type": "markdown",
      "metadata": {
        "id": "YatWRgNXUPcV",
        "colab_type": "text"
      },
      "source": [
        "### **Fixing the target variable and seggregating it from the independent variables in the dataset**"
      ]
    },
    {
      "cell_type": "code",
      "metadata": {
        "id": "Gg59THCQZRRj",
        "colab_type": "code",
        "colab": {}
      },
      "source": [
        "\n",
        "X = data_set.iloc[:, :-1].values  \n",
        "y = data_set.iloc[:, 1].values \n"
      ],
      "execution_count": 331,
      "outputs": []
    },
    {
      "cell_type": "markdown",
      "metadata": {
        "id": "FVLblUyaUkMh",
        "colab_type": "text"
      },
      "source": [
        "### **Splitting the data into train and test / validation set**"
      ]
    },
    {
      "cell_type": "code",
      "metadata": {
        "id": "IYSuI9vneh4A",
        "colab_type": "code",
        "colab": {
          "base_uri": "https://localhost:8080/",
          "height": 119
        },
        "outputId": "ca431078-a83c-46bd-fd1e-46ab32038dfa"
      },
      "source": [
        "from sklearn.model_selection import train_test_split\n",
        "X_train,X_test,y_train,y_test=train_test_split(X,y,test_size=0.2,random_state=0)\n",
        "print(X_test.shape)\n",
        "print(X_test)"
      ],
      "execution_count": 332,
      "outputs": [
        {
          "output_type": "stream",
          "text": [
            "(5, 1)\n",
            "[[1.5]\n",
            " [3.2]\n",
            " [7.4]\n",
            " [2.5]\n",
            " [5.9]]\n"
          ],
          "name": "stdout"
        }
      ]
    },
    {
      "cell_type": "markdown",
      "metadata": {
        "id": "awYXunSwV4cr",
        "colab_type": "text"
      },
      "source": [
        "### **1.Simple linear regression**"
      ]
    },
    {
      "cell_type": "code",
      "metadata": {
        "id": "wD-siJYdk4Xr",
        "colab_type": "code",
        "colab": {
          "base_uri": "https://localhost:8080/",
          "height": 34
        },
        "outputId": "84092cd8-d247-418e-8e83-97ab39d2da0a"
      },
      "source": [
        "from sklearn.linear_model import LinearRegression\n",
        "regressor=LinearRegression()\n",
        "regressor.fit(X,y)\n",
        "regressor.coef_\n"
      ],
      "execution_count": 333,
      "outputs": [
        {
          "output_type": "execute_result",
          "data": {
            "text/plain": [
              "array([9.77580339])"
            ]
          },
          "metadata": {
            "tags": []
          },
          "execution_count": 333
        }
      ]
    },
    {
      "cell_type": "markdown",
      "metadata": {
        "id": "ra0fyFtrWTQ4",
        "colab_type": "text"
      },
      "source": [
        "### **Making predictions using Model 1**"
      ]
    },
    {
      "cell_type": "code",
      "metadata": {
        "id": "609THWALlbUs",
        "colab_type": "code",
        "colab": {
          "base_uri": "https://localhost:8080/",
          "height": 34
        },
        "outputId": "f3fc093d-5a2d-4103-a783-bb921c7c08a1"
      },
      "source": [
        "mod1_pred=regressor.predict(X_test)\n",
        "mod1_pred"
      ],
      "execution_count": 334,
      "outputs": [
        {
          "output_type": "execute_result",
          "data": {
            "text/plain": [
              "array([17.14737849, 33.76624426, 74.8246185 , 26.92318188, 60.16091341])"
            ]
          },
          "metadata": {
            "tags": []
          },
          "execution_count": 334
        }
      ]
    },
    {
      "cell_type": "markdown",
      "metadata": {
        "id": "A37BG-NWWvh0",
        "colab_type": "text"
      },
      "source": [
        "### **Comparing Actual vs Predicted values for Model 1**"
      ]
    },
    {
      "cell_type": "code",
      "metadata": {
        "id": "0gP3r8colx_5",
        "colab_type": "code",
        "colab": {
          "base_uri": "https://localhost:8080/",
          "height": 204
        },
        "outputId": "2981ce81-54a3-4752-9065-a38147c379a3"
      },
      "source": [
        "check=pd.DataFrame(np.c_[X_test,y_test,y_pred],columns=['Hours','Actual','predicted'])\n",
        "check['Deviation']=abs(check['Actual']-check['predicted'])\n",
        "check"
      ],
      "execution_count": 335,
      "outputs": [
        {
          "output_type": "execute_result",
          "data": {
            "text/html": [
              "<div>\n",
              "<style scoped>\n",
              "    .dataframe tbody tr th:only-of-type {\n",
              "        vertical-align: middle;\n",
              "    }\n",
              "\n",
              "    .dataframe tbody tr th {\n",
              "        vertical-align: top;\n",
              "    }\n",
              "\n",
              "    .dataframe thead th {\n",
              "        text-align: right;\n",
              "    }\n",
              "</style>\n",
              "<table border=\"1\" class=\"dataframe\">\n",
              "  <thead>\n",
              "    <tr style=\"text-align: right;\">\n",
              "      <th></th>\n",
              "      <th>Hours</th>\n",
              "      <th>Actual</th>\n",
              "      <th>predicted</th>\n",
              "      <th>Deviation</th>\n",
              "    </tr>\n",
              "  </thead>\n",
              "  <tbody>\n",
              "    <tr>\n",
              "      <th>0</th>\n",
              "      <td>1.5</td>\n",
              "      <td>20.0</td>\n",
              "      <td>17.147378</td>\n",
              "      <td>2.852622</td>\n",
              "    </tr>\n",
              "    <tr>\n",
              "      <th>1</th>\n",
              "      <td>3.2</td>\n",
              "      <td>27.0</td>\n",
              "      <td>33.766244</td>\n",
              "      <td>6.766244</td>\n",
              "    </tr>\n",
              "    <tr>\n",
              "      <th>2</th>\n",
              "      <td>7.4</td>\n",
              "      <td>69.0</td>\n",
              "      <td>74.824618</td>\n",
              "      <td>5.824618</td>\n",
              "    </tr>\n",
              "    <tr>\n",
              "      <th>3</th>\n",
              "      <td>2.5</td>\n",
              "      <td>30.0</td>\n",
              "      <td>26.923182</td>\n",
              "      <td>3.076818</td>\n",
              "    </tr>\n",
              "    <tr>\n",
              "      <th>4</th>\n",
              "      <td>5.9</td>\n",
              "      <td>62.0</td>\n",
              "      <td>60.160913</td>\n",
              "      <td>1.839087</td>\n",
              "    </tr>\n",
              "  </tbody>\n",
              "</table>\n",
              "</div>"
            ],
            "text/plain": [
              "   Hours  Actual  predicted  Deviation\n",
              "0    1.5    20.0  17.147378   2.852622\n",
              "1    3.2    27.0  33.766244   6.766244\n",
              "2    7.4    69.0  74.824618   5.824618\n",
              "3    2.5    30.0  26.923182   3.076818\n",
              "4    5.9    62.0  60.160913   1.839087"
            ]
          },
          "metadata": {
            "tags": []
          },
          "execution_count": 335
        }
      ]
    },
    {
      "cell_type": "markdown",
      "metadata": {
        "id": "g3z5TwjQalft",
        "colab_type": "text"
      },
      "source": [
        "### **Visualizing relationship between Actual vs Predicted values for Model 1** "
      ]
    },
    {
      "cell_type": "code",
      "metadata": {
        "id": "oRCZpT8eawab",
        "colab_type": "code",
        "colab": {
          "base_uri": "https://localhost:8080/",
          "height": 312
        },
        "outputId": "98d3f835-8666-45e7-efdb-1c3b9419c705"
      },
      "source": [
        "sns.regplot('Actual','predicted',data=check,marker='D',color='green')\n",
        "plt.title('Deviation in actual vs predicted values(Simple linear regression)')"
      ],
      "execution_count": 336,
      "outputs": [
        {
          "output_type": "execute_result",
          "data": {
            "text/plain": [
              "Text(0.5, 1.0, 'Deviation in actual vs predicted values(Simple linear regression)')"
            ]
          },
          "metadata": {
            "tags": []
          },
          "execution_count": 336
        },
        {
          "output_type": "display_data",
          "data": {
            "image/png": "[encoded data removed]",
            "text/plain": [
              "<Figure size 432x288 with 1 Axes>"
            ]
          },
          "metadata": {
            "tags": [],
            "needs_background": "light"
          }
        }
      ]
    },
    {
      "cell_type": "markdown",
      "metadata": {
        "id": "yDCuoZkPOwID",
        "colab_type": "text"
      },
      "source": [
        "## **Evaluating Model 1 Accuracy**"
      ]
    },
    {
      "cell_type": "code",
      "metadata": {
        "id": "C3GWiwv7Pzk0",
        "colab_type": "code",
        "colab": {
          "base_uri": "https://localhost:8080/",
          "height": 68
        },
        "outputId": "2f5c47ee-5d5f-4f90-88ca-3fcc8497a5d5"
      },
      "source": [
        "from sklearn.metrics import r2_score\n",
        "r2_score_1=r2_score(y_test,y_pred)\n",
        "print(\"r2_score for model 1 is \",r2_score(y_test,y_pred))\n",
        "from sklearn import metrics\n",
        "MAE_1=metrics.mean_absolute_error(y_test,y_pred)\n",
        "print(\"Mean Absolute error for model 1 is \",metrics.mean_absolute_error(y_test,y_pred))\n",
        "RMSE_1=np.sqrt(metrics.mean_squared_error(y_test,y_pred))\n",
        "print(\"Root Mean squared error for model 1 is \",np.sqrt(metrics.mean_squared_error(y_test,y_pred)))\n"
      ],
      "execution_count": 338,
      "outputs": [
        {
          "output_type": "stream",
          "text": [
            "r2_score for model 1 is  0.9491748734859172\n",
            "Mean Absolute error for model 1 is  4.071877793635605\n",
            "Root Mean squared error for model 1 is  4.487643939746131\n"
          ],
          "name": "stdout"
        }
      ]
    },
    {
      "cell_type": "markdown",
      "metadata": {
        "id": "5A6JFg1VdrPH",
        "colab_type": "text"
      },
      "source": [
        "## **2.Ridge Regularization regression**"
      ]
    },
    {
      "cell_type": "code",
      "metadata": {
        "id": "BWC9oLxZi6-0",
        "colab_type": "code",
        "colab": {
          "base_uri": "https://localhost:8080/",
          "height": 34
        },
        "outputId": "3fbaea4c-d6af-4ea6-c60d-8f0d1f539937"
      },
      "source": [
        "from sklearn.linear_model import Ridge\n",
        "clf=Ridge(alpha=0.1)\n",
        "clf.fit(X,y)\n",
        "clf.coef_\n",
        "clf.intercept_"
      ],
      "execution_count": 339,
      "outputs": [
        {
          "output_type": "execute_result",
          "data": {
            "text/plain": [
              "2.515670713867742"
            ]
          },
          "metadata": {
            "tags": []
          },
          "execution_count": 339
        }
      ]
    },
    {
      "cell_type": "markdown",
      "metadata": {
        "id": "KDxYWkKa45-n",
        "colab_type": "text"
      },
      "source": [
        "### **Making Predictions Using Model 2**"
      ]
    },
    {
      "cell_type": "code",
      "metadata": {
        "id": "35liEFuYk_U6",
        "colab_type": "code",
        "colab": {
          "base_uri": "https://localhost:8080/",
          "height": 34
        },
        "outputId": "ec31cbfe-b788-4219-ef90-f8d5799d24d6"
      },
      "source": [
        "mod2_pred=clf.predict(X_test)\n",
        "mod2_pred"
      ],
      "execution_count": 340,
      "outputs": [
        {
          "output_type": "execute_result",
          "data": {
            "text/plain": [
              "array([17.16979959, 33.77781232, 74.80937317, 26.93921884, 60.15524429])"
            ]
          },
          "metadata": {
            "tags": []
          },
          "execution_count": 340
        }
      ]
    },
    {
      "cell_type": "markdown",
      "metadata": {
        "id": "EZKHHThqzkoD",
        "colab_type": "text"
      },
      "source": [
        "###  **Evaluating Model 2 Accuracy**"
      ]
    },
    {
      "cell_type": "code",
      "metadata": {
        "id": "LobWxw15z4tA",
        "colab_type": "code",
        "colab": {
          "base_uri": "https://localhost:8080/",
          "height": 68
        },
        "outputId": "0b4298d3-4054-48f6-834d-49e46dd17a55"
      },
      "source": [
        "from sklearn.metrics import r2_score,mean_absolute_error\n",
        "r2_score_2=(r2_score(y_test,mod2_pred))\n",
        "print(\"r2_score for model 2 is :\",(r2_score(y_test,mod2_pred)))\n",
        "MAE_2=mean_absolute_error(y_test,mod2_pred)\n",
        "print(\"Mean Absolute Error for model 2 is : \",mean_absolute_error(y_test,mod2_pred))\n",
        "RMSE_2=np.sqrt(metrics.mean_squared_error(y_test,mod2_pred))\n",
        "print(\"Root Mean Square  error for model 2 is : \",np.sqrt(metrics.mean_squared_error(y_test,mod2_pred)))\n"
      ],
      "execution_count": 341,
      "outputs": [
        {
          "output_type": "stream",
          "text": [
            "r2_score for model 2 is : 0.9492887665444383\n",
            "Mean Absolute Error for model 2 is :  4.0645845523698085\n",
            "Root Mean Square  error for model 2 is :  4.482612981781025\n"
          ],
          "name": "stdout"
        }
      ]
    },
    {
      "cell_type": "markdown",
      "metadata": {
        "id": "sUvD6khGwXbt",
        "colab_type": "text"
      },
      "source": [
        "### **Comparing Actual vs Predicted values for Model 2**"
      ]
    },
    {
      "cell_type": "code",
      "metadata": {
        "id": "f1OMw2AqvTWj",
        "colab_type": "code",
        "colab": {
          "base_uri": "https://localhost:8080/",
          "height": 204
        },
        "outputId": "f75e0444-7e67-4080-9f9a-32374a8b060e"
      },
      "source": [
        "check1=pd.DataFrame(np.c_[X_test,y_test,mod2_pred],columns=['Hours','Actual','Predicted'])\n",
        "check1['Deviation']=abs(y_test-mod2_pred)\n",
        "check1"
      ],
      "execution_count": 342,
      "outputs": [
        {
          "output_type": "execute_result",
          "data": {
            "text/html": [
              "<div>\n",
              "<style scoped>\n",
              "    .dataframe tbody tr th:only-of-type {\n",
              "        vertical-align: middle;\n",
              "    }\n",
              "\n",
              "    .dataframe tbody tr th {\n",
              "        vertical-align: top;\n",
              "    }\n",
              "\n",
              "    .dataframe thead th {\n",
              "        text-align: right;\n",
              "    }\n",
              "</style>\n",
              "<table border=\"1\" class=\"dataframe\">\n",
              "  <thead>\n",
              "    <tr style=\"text-align: right;\">\n",
              "      <th></th>\n",
              "      <th>Hours</th>\n",
              "      <th>Actual</th>\n",
              "      <th>Predicted</th>\n",
              "      <th>Deviation</th>\n",
              "    </tr>\n",
              "  </thead>\n",
              "  <tbody>\n",
              "    <tr>\n",
              "      <th>0</th>\n",
              "      <td>1.5</td>\n",
              "      <td>20.0</td>\n",
              "      <td>17.169800</td>\n",
              "      <td>2.830200</td>\n",
              "    </tr>\n",
              "    <tr>\n",
              "      <th>1</th>\n",
              "      <td>3.2</td>\n",
              "      <td>27.0</td>\n",
              "      <td>33.777812</td>\n",
              "      <td>6.777812</td>\n",
              "    </tr>\n",
              "    <tr>\n",
              "      <th>2</th>\n",
              "      <td>7.4</td>\n",
              "      <td>69.0</td>\n",
              "      <td>74.809373</td>\n",
              "      <td>5.809373</td>\n",
              "    </tr>\n",
              "    <tr>\n",
              "      <th>3</th>\n",
              "      <td>2.5</td>\n",
              "      <td>30.0</td>\n",
              "      <td>26.939219</td>\n",
              "      <td>3.060781</td>\n",
              "    </tr>\n",
              "    <tr>\n",
              "      <th>4</th>\n",
              "      <td>5.9</td>\n",
              "      <td>62.0</td>\n",
              "      <td>60.155244</td>\n",
              "      <td>1.844756</td>\n",
              "    </tr>\n",
              "  </tbody>\n",
              "</table>\n",
              "</div>"
            ],
            "text/plain": [
              "   Hours  Actual  Predicted  Deviation\n",
              "0    1.5    20.0  17.169800   2.830200\n",
              "1    3.2    27.0  33.777812   6.777812\n",
              "2    7.4    69.0  74.809373   5.809373\n",
              "3    2.5    30.0  26.939219   3.060781\n",
              "4    5.9    62.0  60.155244   1.844756"
            ]
          },
          "metadata": {
            "tags": []
          },
          "execution_count": 342
        }
      ]
    },
    {
      "cell_type": "code",
      "metadata": {
        "id": "YH4EkyIdzfYZ",
        "colab_type": "code",
        "colab": {}
      },
      "source": [
        ""
      ],
      "execution_count": 342,
      "outputs": []
    },
    {
      "cell_type": "markdown",
      "metadata": {
        "id": "EHBuwkPywkdX",
        "colab_type": "text"
      },
      "source": [
        "### **Visualizing Relationship between Actual and Predicted values for Model 2**"
      ]
    },
    {
      "cell_type": "code",
      "metadata": {
        "id": "90yXhvhexBwT",
        "colab_type": "code",
        "colab": {
          "base_uri": "https://localhost:8080/",
          "height": 312
        },
        "outputId": "af5dc3ff-7249-48c1-cf71-5efc812979d7"
      },
      "source": [
        "sns.regplot('Actual','Predicted',data=check1,line_kws={'color':'green'},scatter_kws={'color':'red'},marker='*')\n",
        "plt.title('Deviation in Actual vs Predicted values(Ridge Regression)')"
      ],
      "execution_count": 343,
      "outputs": [
        {
          "output_type": "execute_result",
          "data": {
            "text/plain": [
              "Text(0.5, 1.0, 'Deviation in Actual vs Predicted values(Ridge Regression)')"
            ]
          },
          "metadata": {
            "tags": []
          },
          "execution_count": 343
        },
        {
          "output_type": "display_data",
          "data": {
            "image/png": "[encoded data removed]",
            "text/plain": [
              "<Figure size 432x288 with 1 Axes>"
            ]
          },
          "metadata": {
            "tags": [],
            "needs_background": "light"
          }
        }
      ]
    },
    {
      "cell_type": "markdown",
      "metadata": {
        "id": "Wyo0BEj66XiL",
        "colab_type": "text"
      },
      "source": [
        "### **3.Using Lasso Regularization Model**"
      ]
    },
    {
      "cell_type": "code",
      "metadata": {
        "id": "s1CwUd-f6JwZ",
        "colab_type": "code",
        "colab": {
          "base_uri": "https://localhost:8080/",
          "height": 68
        },
        "outputId": "10cbe9d5-6a90-4dfb-c598-b22f38b2e044"
      },
      "source": [
        "from sklearn.linear_model import Lasso\n",
        "clf3=Lasso(alpha=0.1)\n",
        "clf3.fit(X,y)"
      ],
      "execution_count": 344,
      "outputs": [
        {
          "output_type": "execute_result",
          "data": {
            "text/plain": [
              "Lasso(alpha=0.1, copy_X=True, fit_intercept=True, max_iter=1000,\n",
              "      normalize=False, positive=False, precompute=False, random_state=None,\n",
              "      selection='cyclic', tol=0.0001, warm_start=False)"
            ]
          },
          "metadata": {
            "tags": []
          },
          "execution_count": 344
        }
      ]
    },
    {
      "cell_type": "markdown",
      "metadata": {
        "id": "H4beHIq57W90",
        "colab_type": "text"
      },
      "source": [
        "### **Making Predictions using Model 3**"
      ]
    },
    {
      "cell_type": "code",
      "metadata": {
        "id": "th4ttoN07cYy",
        "colab_type": "code",
        "colab": {
          "base_uri": "https://localhost:8080/",
          "height": 34
        },
        "outputId": "1f23bc78-e5bb-4330-9ff2-8cbcc7d29fea"
      },
      "source": [
        "model3_pred=clf3.predict(X_test)\n",
        "model3_pred"
      ],
      "execution_count": 345,
      "outputs": [
        {
          "output_type": "execute_result",
          "data": {
            "text/plain": [
              "array([17.20475421, 33.79584699, 74.78560562, 26.96422055, 60.14640611])"
            ]
          },
          "metadata": {
            "tags": []
          },
          "execution_count": 345
        }
      ]
    },
    {
      "cell_type": "markdown",
      "metadata": {
        "id": "HWXMS8VA-6RW",
        "colab_type": "text"
      },
      "source": [
        "### **Evaluating Model 3 Accuracy**"
      ]
    },
    {
      "cell_type": "code",
      "metadata": {
        "id": "9Pom0272-_0G",
        "colab_type": "code",
        "colab": {
          "base_uri": "https://localhost:8080/",
          "height": 68
        },
        "outputId": "25530228-5816-49e6-c014-1720b5775452"
      },
      "source": [
        "from sklearn.metrics import r2_score,mean_absolute_error\n",
        "r2_score_3=r2_score(y_test,model3_pred)\n",
        "MAE_3=mean_absolute_error(y_test,model3_pred)\n",
        "RMSE_3=np.sqrt(metrics.mean_squared_error(y_test,model3_pred))\n",
        "print(\"Mean Absolute Error for Model 3 is :\",mean_absolute_error(y_test,model3_pred))\n",
        "print(\"r2_score for Model 3 is :\",r2_score(y_test,model3_pred))\n",
        "print(\"Root Mean squared error for model 3 is \",np.sqrt(metrics.mean_squared_error(y_test,model3_pred)))\n"
      ],
      "execution_count": 346,
      "outputs": [
        {
          "output_type": "stream",
          "text": [
            "Mean Absolute Error for Model 3 is : 4.053214347328307\n",
            "r2_score for Model 3 is : 0.9494639940937134\n",
            "Root Mean squared error for model 3 is  4.47486167163936\n"
          ],
          "name": "stdout"
        }
      ]
    },
    {
      "cell_type": "markdown",
      "metadata": {
        "id": "vtrxk1od7sD7",
        "colab_type": "text"
      },
      "source": [
        "### **Comparing Actual vs Predicted values for Model 3**"
      ]
    },
    {
      "cell_type": "code",
      "metadata": {
        "id": "WNZZQXWl74L1",
        "colab_type": "code",
        "colab": {
          "base_uri": "https://localhost:8080/",
          "height": 204
        },
        "outputId": "10d03c6f-e7f9-421a-e60f-908ef1c401aa"
      },
      "source": [
        "check3=pd.DataFrame(np.c_[X_test,y_test,model3_pred],columns=['Hours','Actual','Predicted'])\n",
        "check3['Deviation']=abs(y_test-model3_pred)\n",
        "check3"
      ],
      "execution_count": 347,
      "outputs": [
        {
          "output_type": "execute_result",
          "data": {
            "text/html": [
              "<div>\n",
              "<style scoped>\n",
              "    .dataframe tbody tr th:only-of-type {\n",
              "        vertical-align: middle;\n",
              "    }\n",
              "\n",
              "    .dataframe tbody tr th {\n",
              "        vertical-align: top;\n",
              "    }\n",
              "\n",
              "    .dataframe thead th {\n",
              "        text-align: right;\n",
              "    }\n",
              "</style>\n",
              "<table border=\"1\" class=\"dataframe\">\n",
              "  <thead>\n",
              "    <tr style=\"text-align: right;\">\n",
              "      <th></th>\n",
              "      <th>Hours</th>\n",
              "      <th>Actual</th>\n",
              "      <th>Predicted</th>\n",
              "      <th>Deviation</th>\n",
              "    </tr>\n",
              "  </thead>\n",
              "  <tbody>\n",
              "    <tr>\n",
              "      <th>0</th>\n",
              "      <td>1.5</td>\n",
              "      <td>20.0</td>\n",
              "      <td>17.204754</td>\n",
              "      <td>2.795246</td>\n",
              "    </tr>\n",
              "    <tr>\n",
              "      <th>1</th>\n",
              "      <td>3.2</td>\n",
              "      <td>27.0</td>\n",
              "      <td>33.795847</td>\n",
              "      <td>6.795847</td>\n",
              "    </tr>\n",
              "    <tr>\n",
              "      <th>2</th>\n",
              "      <td>7.4</td>\n",
              "      <td>69.0</td>\n",
              "      <td>74.785606</td>\n",
              "      <td>5.785606</td>\n",
              "    </tr>\n",
              "    <tr>\n",
              "      <th>3</th>\n",
              "      <td>2.5</td>\n",
              "      <td>30.0</td>\n",
              "      <td>26.964221</td>\n",
              "      <td>3.035779</td>\n",
              "    </tr>\n",
              "    <tr>\n",
              "      <th>4</th>\n",
              "      <td>5.9</td>\n",
              "      <td>62.0</td>\n",
              "      <td>60.146406</td>\n",
              "      <td>1.853594</td>\n",
              "    </tr>\n",
              "  </tbody>\n",
              "</table>\n",
              "</div>"
            ],
            "text/plain": [
              "   Hours  Actual  Predicted  Deviation\n",
              "0    1.5    20.0  17.204754   2.795246\n",
              "1    3.2    27.0  33.795847   6.795847\n",
              "2    7.4    69.0  74.785606   5.785606\n",
              "3    2.5    30.0  26.964221   3.035779\n",
              "4    5.9    62.0  60.146406   1.853594"
            ]
          },
          "metadata": {
            "tags": []
          },
          "execution_count": 347
        }
      ]
    },
    {
      "cell_type": "markdown",
      "metadata": {
        "id": "1SA6w38I_wNL",
        "colab_type": "text"
      },
      "source": [
        "### **Visualizing Relationship between Actual and Predicted Values for Model 3**"
      ]
    },
    {
      "cell_type": "code",
      "metadata": {
        "id": "-nkqOF2F_uaH",
        "colab_type": "code",
        "colab": {
          "base_uri": "https://localhost:8080/",
          "height": 312
        },
        "outputId": "2d6782c4-d745-4581-f7ae-c9cb6d804712"
      },
      "source": [
        "sns.regplot('Actual','Predicted',data=check3,line_kws={'color':'blue'},scatter_kws={'color':'orange'},marker='*')\n",
        "plt.title('Deviation in Actual vs Predicted Values for Model 3(Lasso Regression)')"
      ],
      "execution_count": 348,
      "outputs": [
        {
          "output_type": "execute_result",
          "data": {
            "text/plain": [
              "Text(0.5, 1.0, 'Deviation in Actual vs Predicted Values for Model 3(Lasso Regression)')"
            ]
          },
          "metadata": {
            "tags": []
          },
          "execution_count": 348
        },
        {
          "output_type": "display_data",
          "data": {
            "image/png": "[encoded data removed]",
            "text/plain": [
              "<Figure size 432x288 with 1 Axes>"
            ]
          },
          "metadata": {
            "tags": [],
            "needs_background": "light"
          }
        }
      ]
    },
    {
      "cell_type": "markdown",
      "metadata": {
        "id": "Yr3RPrL3Nbng",
        "colab_type": "text"
      },
      "source": [
        "### **4.Using Elastic Net Regression**"
      ]
    },
    {
      "cell_type": "code",
      "metadata": {
        "id": "4cBU36YkNwjm",
        "colab_type": "code",
        "colab": {
          "base_uri": "https://localhost:8080/",
          "height": 68
        },
        "outputId": "65de15a8-3d57-4ae0-90f7-43a7c33a157d"
      },
      "source": [
        "from sklearn.linear_model import ElasticNet\n",
        "clf4=ElasticNet(alpha=0.1)\n",
        "clf4.fit(X,y)"
      ],
      "execution_count": 349,
      "outputs": [
        {
          "output_type": "execute_result",
          "data": {
            "text/plain": [
              "ElasticNet(alpha=0.1, copy_X=True, fit_intercept=True, l1_ratio=0.5,\n",
              "           max_iter=1000, normalize=False, positive=False, precompute=False,\n",
              "           random_state=None, selection='cyclic', tol=0.0001, warm_start=False)"
            ]
          },
          "metadata": {
            "tags": []
          },
          "execution_count": 349
        }
      ]
    },
    {
      "cell_type": "markdown",
      "metadata": {
        "id": "0q1tBXEIOXOQ",
        "colab_type": "text"
      },
      "source": [
        "### **Predicting values using Model 4**"
      ]
    },
    {
      "cell_type": "code",
      "metadata": {
        "id": "KhgoM7nTOdZN",
        "colab_type": "code",
        "colab": {
          "base_uri": "https://localhost:8080/",
          "height": 34
        },
        "outputId": "6e9b7c24-241b-4acd-88da-af2a25e2884f"
      },
      "source": [
        "model4_pred=clf4.predict(X_test)\n",
        "model4_pred"
      ],
      "execution_count": 350,
      "outputs": [
        {
          "output_type": "execute_result",
          "data": {
            "text/plain": [
              "array([17.45400852, 33.92444859, 74.61612405, 27.14250268, 60.08338281])"
            ]
          },
          "metadata": {
            "tags": []
          },
          "execution_count": 350
        }
      ]
    },
    {
      "cell_type": "markdown",
      "metadata": {
        "id": "XYItIlPnQJke",
        "colab_type": "text"
      },
      "source": [
        "### **Evaluating Model 4 Accuracy**"
      ]
    },
    {
      "cell_type": "code",
      "metadata": {
        "id": "VIDf_dGiQIk6",
        "colab_type": "code",
        "colab": {
          "base_uri": "https://localhost:8080/",
          "height": 68
        },
        "outputId": "8596eb6d-844a-4afc-a1c3-c81a5f199ff2"
      },
      "source": [
        "from sklearn.metrics import r2_score,mean_absolute_error,mean_squared_error\n",
        "r2_score_4=r2_score(y_test,model4_pred)\n",
        "MAE_4=mean_absolute_error(y_test,model4_pred)\n",
        "RMSE_4=np.sqrt(mean_squared_error(y_test,model4_pred))\n",
        "print(\"r2 score for Model 4 is : \",r2_score(y_test,model4_pred))\n",
        "print(\"Mean Absolute Error for Model 4 is:\",mean_absolute_error(y_test,model4_pred))\n",
        "print(\"Root Mean Squared Error for Model 4 is :\", np.sqrt(mean_squared_error(y_test,model4_pred)))"
      ],
      "execution_count": 351,
      "outputs": [
        {
          "output_type": "stream",
          "text": [
            "r2 score for Model 4 is :  0.9506311212563421\n",
            "Mean Absolute Error for Model 4 is: 3.9721357252308236\n",
            "Root Mean Squared Error for Model 4 is : 4.422886445906904\n"
          ],
          "name": "stdout"
        }
      ]
    },
    {
      "cell_type": "markdown",
      "metadata": {
        "id": "g1vsA6yeOmO3",
        "colab_type": "text"
      },
      "source": [
        "### **Comparing Actual vs Predicted values for Model4**"
      ]
    },
    {
      "cell_type": "code",
      "metadata": {
        "id": "M23kEripOvjt",
        "colab_type": "code",
        "colab": {
          "base_uri": "https://localhost:8080/",
          "height": 204
        },
        "outputId": "3deb8e36-f414-4e91-a119-7823951d53f8"
      },
      "source": [
        "check4=pd.DataFrame(np.c_[X_test,y_test,model4_pred],columns=['Hours','Actual','Predicted'])\n",
        "check4['Deviation']=abs(y_test-model4_pred)\n",
        "check4"
      ],
      "execution_count": 352,
      "outputs": [
        {
          "output_type": "execute_result",
          "data": {
            "text/html": [
              "<div>\n",
              "<style scoped>\n",
              "    .dataframe tbody tr th:only-of-type {\n",
              "        vertical-align: middle;\n",
              "    }\n",
              "\n",
              "    .dataframe tbody tr th {\n",
              "        vertical-align: top;\n",
              "    }\n",
              "\n",
              "    .dataframe thead th {\n",
              "        text-align: right;\n",
              "    }\n",
              "</style>\n",
              "<table border=\"1\" class=\"dataframe\">\n",
              "  <thead>\n",
              "    <tr style=\"text-align: right;\">\n",
              "      <th></th>\n",
              "      <th>Hours</th>\n",
              "      <th>Actual</th>\n",
              "      <th>Predicted</th>\n",
              "      <th>Deviation</th>\n",
              "    </tr>\n",
              "  </thead>\n",
              "  <tbody>\n",
              "    <tr>\n",
              "      <th>0</th>\n",
              "      <td>1.5</td>\n",
              "      <td>20.0</td>\n",
              "      <td>17.454009</td>\n",
              "      <td>2.545991</td>\n",
              "    </tr>\n",
              "    <tr>\n",
              "      <th>1</th>\n",
              "      <td>3.2</td>\n",
              "      <td>27.0</td>\n",
              "      <td>33.924449</td>\n",
              "      <td>6.924449</td>\n",
              "    </tr>\n",
              "    <tr>\n",
              "      <th>2</th>\n",
              "      <td>7.4</td>\n",
              "      <td>69.0</td>\n",
              "      <td>74.616124</td>\n",
              "      <td>5.616124</td>\n",
              "    </tr>\n",
              "    <tr>\n",
              "      <th>3</th>\n",
              "      <td>2.5</td>\n",
              "      <td>30.0</td>\n",
              "      <td>27.142503</td>\n",
              "      <td>2.857497</td>\n",
              "    </tr>\n",
              "    <tr>\n",
              "      <th>4</th>\n",
              "      <td>5.9</td>\n",
              "      <td>62.0</td>\n",
              "      <td>60.083383</td>\n",
              "      <td>1.916617</td>\n",
              "    </tr>\n",
              "  </tbody>\n",
              "</table>\n",
              "</div>"
            ],
            "text/plain": [
              "   Hours  Actual  Predicted  Deviation\n",
              "0    1.5    20.0  17.454009   2.545991\n",
              "1    3.2    27.0  33.924449   6.924449\n",
              "2    7.4    69.0  74.616124   5.616124\n",
              "3    2.5    30.0  27.142503   2.857497\n",
              "4    5.9    62.0  60.083383   1.916617"
            ]
          },
          "metadata": {
            "tags": []
          },
          "execution_count": 352
        }
      ]
    },
    {
      "cell_type": "markdown",
      "metadata": {
        "id": "OpDt7bYAREmL",
        "colab_type": "text"
      },
      "source": [
        "### **Visualizing Relationship between Actual an Predicted Values for Model 4**"
      ]
    },
    {
      "cell_type": "code",
      "metadata": {
        "id": "V_oWknc1RS9r",
        "colab_type": "code",
        "colab": {
          "base_uri": "https://localhost:8080/",
          "height": 312
        },
        "outputId": "9f732da8-4658-41b9-89d7-5815bfad270e"
      },
      "source": [
        "sns.regplot('Actual','Predicted',data=check4,line_kws={'color':'grey'},marker='*',scatter_kws={'color':'blue'})\n",
        "plt.title('Deviation in Actual vs Predicted values for Model 4 (Elastic Net Regression)')"
      ],
      "execution_count": 353,
      "outputs": [
        {
          "output_type": "execute_result",
          "data": {
            "text/plain": [
              "Text(0.5, 1.0, 'Deviation in Actual vs Predicted values for Model 4 (Elastic Net Regression)')"
            ]
          },
          "metadata": {
            "tags": []
          },
          "execution_count": 353
        },
        {
          "output_type": "display_data",
          "data": {
            "image/png": "[encoded data removed]",
            "text/plain": [
              "<Figure size 432x288 with 1 Axes>"
            ]
          },
          "metadata": {
            "tags": [],
            "needs_background": "light"
          }
        }
      ]
    },
    {
      "cell_type": "markdown",
      "metadata": {
        "id": "4P7LigSBVWVW",
        "colab_type": "text"
      },
      "source": [
        "### **Comparing all Models with Actual and predicted values together**"
      ]
    },
    {
      "cell_type": "code",
      "metadata": {
        "id": "zr7K_-QdVVOT",
        "colab_type": "code",
        "colab": {
          "base_uri": "https://localhost:8080/",
          "height": 204
        },
        "outputId": "a38e627d-46d9-46b1-d9a4-5b76be7e17c8"
      },
      "source": [
        "final=pd.DataFrame()\n",
        "final['Valid']=y_test\n",
        "final['LinearRegression']=mod1_pred\n",
        "final['Bayesian Regression Model']=mod2_pred\n",
        "final['Lasso']=model3_pred\n",
        "final['ElasticNet']=model4_pred\n",
        "final.head()\n"
      ],
      "execution_count": 354,
      "outputs": [
        {
          "output_type": "execute_result",
          "data": {
            "text/html": [
              "<div>\n",
              "<style scoped>\n",
              "    .dataframe tbody tr th:only-of-type {\n",
              "        vertical-align: middle;\n",
              "    }\n",
              "\n",
              "    .dataframe tbody tr th {\n",
              "        vertical-align: top;\n",
              "    }\n",
              "\n",
              "    .dataframe thead th {\n",
              "        text-align: right;\n",
              "    }\n",
              "</style>\n",
              "<table border=\"1\" class=\"dataframe\">\n",
              "  <thead>\n",
              "    <tr style=\"text-align: right;\">\n",
              "      <th></th>\n",
              "      <th>Valid</th>\n",
              "      <th>LinearRegression</th>\n",
              "      <th>Bayesian Regression Model</th>\n",
              "      <th>Lasso</th>\n",
              "      <th>ElasticNet</th>\n",
              "    </tr>\n",
              "  </thead>\n",
              "  <tbody>\n",
              "    <tr>\n",
              "      <th>0</th>\n",
              "      <td>20</td>\n",
              "      <td>17.147378</td>\n",
              "      <td>17.169800</td>\n",
              "      <td>17.204754</td>\n",
              "      <td>17.454009</td>\n",
              "    </tr>\n",
              "    <tr>\n",
              "      <th>1</th>\n",
              "      <td>27</td>\n",
              "      <td>33.766244</td>\n",
              "      <td>33.777812</td>\n",
              "      <td>33.795847</td>\n",
              "      <td>33.924449</td>\n",
              "    </tr>\n",
              "    <tr>\n",
              "      <th>2</th>\n",
              "      <td>69</td>\n",
              "      <td>74.824618</td>\n",
              "      <td>74.809373</td>\n",
              "      <td>74.785606</td>\n",
              "      <td>74.616124</td>\n",
              "    </tr>\n",
              "    <tr>\n",
              "      <th>3</th>\n",
              "      <td>30</td>\n",
              "      <td>26.923182</td>\n",
              "      <td>26.939219</td>\n",
              "      <td>26.964221</td>\n",
              "      <td>27.142503</td>\n",
              "    </tr>\n",
              "    <tr>\n",
              "      <th>4</th>\n",
              "      <td>62</td>\n",
              "      <td>60.160913</td>\n",
              "      <td>60.155244</td>\n",
              "      <td>60.146406</td>\n",
              "      <td>60.083383</td>\n",
              "    </tr>\n",
              "  </tbody>\n",
              "</table>\n",
              "</div>"
            ],
            "text/plain": [
              "   Valid  LinearRegression  Bayesian Regression Model      Lasso  ElasticNet\n",
              "0     20         17.147378                  17.169800  17.204754   17.454009\n",
              "1     27         33.766244                  33.777812  33.795847   33.924449\n",
              "2     69         74.824618                  74.809373  74.785606   74.616124\n",
              "3     30         26.923182                  26.939219  26.964221   27.142503\n",
              "4     62         60.160913                  60.155244  60.146406   60.083383"
            ]
          },
          "metadata": {
            "tags": []
          },
          "execution_count": 354
        }
      ]
    },
    {
      "cell_type": "markdown",
      "metadata": {
        "id": "i_ZDJKTyYnyP",
        "colab_type": "text"
      },
      "source": [
        "### **Visualizing all models with thier Actual vs Predicted Values(In order to decide for the best one)**"
      ]
    },
    {
      "cell_type": "code",
      "metadata": {
        "id": "wOBhlFinY4ER",
        "colab_type": "code",
        "colab": {
          "base_uri": "https://localhost:8080/",
          "height": 1000
        },
        "outputId": "65ea42e7-ec9f-4827-e1c7-c2bc12e4d089"
      },
      "source": [
        "N=np.arange(5)\n",
        "plt.bar(N+0.35,y_test,width=0.35,label='Actual',color='red')\n",
        "plt.bar(N,mod1_pred,width=0.35,label='Linear Regression',color='purple')\n",
        "plt.ylabel('Scores')\n",
        "plt.title('Variation In Prediction & Actual Values(Linear Regression Model)\\n r2_score: {} \\nMAE: {}\\nRMSE: {}'.format(r2_score_1.round(2),MAE_1.round(2),RMSE_1.round(2)))\n",
        "plt.legend(loc='best')\n",
        "plt.show()\n",
        "\n",
        "N=np.arange(5)\n",
        "plt.bar(N+0.35,y_test,width=0.35,label='Actual',color='red')\n",
        "plt.bar(N,mod2_pred,width=0.35,label='Bayesian Regression',color='green')\n",
        "plt.ylabel('Scores')\n",
        "plt.title('Variation In Prediction & Actual Values(Ridge Regression Model)\\n r2_score: {} \\nMAE: {}\\nRMSE: {}'.format(r2_score_2.round(2),MAE_2.round(2),RMSE_2.round(2)))\n",
        "plt.legend(loc='best')\n",
        "plt.show()\n",
        "\n",
        "N=np.arange(5)\n",
        "plt.bar(N+0.35,y_test,width=0.35,label='Actual',color='red')\n",
        "plt.bar(N,model3_pred,width=0.35,label='Lasso Regression',color='blue')\n",
        "plt.ylabel('Scores')\n",
        "plt.title('Variation In Prediction & Actual Values(Lasso Regression Model)\\n r2_score: {}\\nMAE: {}\\nRMSE: {}'.format(r2_score_3.round(2),MAE_3.round(2),RMSE_3.round(2)))\n",
        "plt.legend(loc='best')\n",
        "plt.show()\n",
        "\n",
        "N=np.arange(5)\n",
        "plt.bar(N+0.35,y_test,width=0.35,label='Actual',color='red')\n",
        "plt.bar(N,model4_pred,width=0.35,label='Elastic Net Regression',color='yellow')\n",
        "plt.ylabel('Scores')\n",
        "plt.title('Variation In Prediction & Actual Values(Elastic Net Model)\\n r2_score: {}\\nMAE: {}\\nRMSE: {}'.format(r2_score_4.round(2),MAE_4.round(2),RMSE_4.round(2)))\n",
        "plt.legend(loc='best')\n",
        "plt.show()\n",
        "\n"
      ],
      "execution_count": 355,
      "outputs": [
        {
          "output_type": "display_data",
          "data": {
            "image/png": "[encoded data removed]",
            "text/plain": [
              "<Figure size 432x288 with 1 Axes>"
            ]
          },
          "metadata": {
            "tags": [],
            "needs_background": "light"
          }
        },
        {
          "output_type": "display_data",
          "data": {
            "image/png": "[encoded data removed]",
            "text/plain": [
              "<Figure size 432x288 with 1 Axes>"
            ]
          },
          "metadata": {
            "tags": [],
            "needs_background": "light"
          }
        },
        {
          "output_type": "display_data",
          "data": {
            "image/png": "[encoded data removed]",
            "text/plain": [
              "<Figure size 432x288 with 1 Axes>"
            ]
          },
          "metadata": {
            "tags": [],
            "needs_background": "light"
          }
        },
        {
          "output_type": "display_data",
          "data": {
            "image/png": "[encoded data removed]",
            "text/plain": [
              "<Figure size 432x288 with 1 Axes>"
            ]
          },
          "metadata": {
            "tags": [],
            "needs_background": "light"
          }
        }
      ]
    },
    {
      "cell_type": "markdown",
      "metadata": {
        "id": "HHDbRpwbaYtp",
        "colab_type": "text"
      },
      "source": [
        "  **Here we can observe that Elastic Net Model gives Accurate output with minimum error out of all the models. \n",
        "  Hence we declare Model 4 as the best performer.**"
      ]
    },
    {
      "cell_type": "markdown",
      "metadata": {
        "id": "f4eA9II3lDJ6",
        "colab_type": "text"
      },
      "source": [
        "### Here you can give the model number of hours of study to tell you how  many marks you probably should gain!"
      ]
    },
    {
      "cell_type": "code",
      "metadata": {
        "id": "egsdTA25aX1A",
        "colab_type": "code",
        "colab": {
          "base_uri": "https://localhost:8080/",
          "height": 68
        },
        "outputId": "ef2c8b2a-dda5-43ac-f504-fc8820bf1d75"
      },
      "source": [
        "Hours=float(input())\n",
        "print(\"If a student studies for {} number of hours,\".format(Hours))\n",
        "pred=clf4.predict([[Hours]])\n",
        "print(\"Expected Score should be{}\".format(pred))"
      ],
      "execution_count": 365,
      "outputs": [
        {
          "output_type": "stream",
          "text": [
            "12\n",
            "If a student studies for 12.0 number of hours,\n",
            "Expected Score should be[119.18319717]\n"
          ],
          "name": "stdout"
        }
      ]
    }
  ]
}